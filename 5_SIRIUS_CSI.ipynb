{
 "cells": [
  {
   "cell_type": "markdown",
   "metadata": {},
   "source": [
    "## `Formula, structural and compound class predictions of the preprocessed data`"
   ]
  },
  {
   "cell_type": "markdown",
   "metadata": {},
   "source": [
    "Import libraries:"
   ]
  },
  {
   "cell_type": "code",
   "execution_count": null,
   "metadata": {},
   "outputs": [],
   "source": [
    "import os\n",
    "import glob\n",
    "from pyopenms import *\n",
    "import pandas as pd\n",
    "import shutil\n",
    "import subprocess\n",
    "import threading\n",
    "from pathlib import Path\n",
    "\n",
    "path = os.path.join(\"results\", \"interim\", \"SiriusCSI\")"
   ]
  },
  {
   "cell_type": "markdown",
   "metadata": {},
   "source": [
    "# SIRIUS\n",
    "\n",
    "De novo metabolite identification from MS2 spectra.\n",
    "\n",
    "**SIRIUS**: Identify molecular formula for each compound individually using fragmentation trees and isotope patterns. Output from this tool can be used to generate an OpenSwathAssay library with the AssayGeneratorMetabo TOPP tool.\n",
    "\n",
    "**CSI:FingerID**: This subtool is dedicated to predicting molecular structures based on tandem mass spectrometry (MS/MS) data. It utilizes a fragmentation tree approach for the annotation of fragment spectra.\n",
    "\n",
    "**CANOPUS**: Predict compound categories for each compound individually based on its predicted molecular fingerprint (CSI:FingerID) using CANOPUS.\n",
    "\n",
    "###### Documentation: https:\"\"boecker-lab.github.io\"docs.sirius.github.io\"\n",
    "\n",
    "###### Citation: Kai Dührkop, Huibin Shen, Marvin Meusel, Juho Rousu, and Sebastian Böcker, Searching molecular structure databases with tandem mass spectra using CSI:FingerID, PNAS October 13, 2015 112 (41) 12580-12585, https:\"\"doi.org\"10.1073\"pnas.1509788112"
   ]
  },
  {
   "cell_type": "markdown",
   "metadata": {},
   "source": [
    "# SIRIUS Login (required!)\n",
    "Uncomment the first line and enter your user email and password, otherwise SIRIUS will not run."
   ]
  },
  {
   "cell_type": "code",
   "execution_count": null,
   "metadata": {},
   "outputs": [],
   "source": [
    "# !sirius login --email=\"\" --password=\"\"\n",
    "!sirius login --show"
   ]
  },
  {
   "cell_type": "code",
   "execution_count": null,
   "metadata": {},
   "outputs": [],
   "source": [
    "if os.path.exists(path):\n",
    "    shutil.rmtree(path)\n",
    "os.mkdir(path)\n",
    "\n",
    "# Use Requantification consensus map if it exists, else use the one from Preprocessing\n",
    "feature_files = sorted(glob.glob(os.path.join(\"results\", \"interim\", \n",
    "                                              \"Requantification\" if os.path.exists(os.path.join(\"results\", \"interim\", \"Requantification\")) else \"Preprocessing\", \n",
    "                                              \"MFD_*.featureXML\")))\n",
    "\n",
    "input_mzml_files = sorted(glob.glob(os.path.join(\"results\", \"interim\", \"mzML\", \"MapAligned_*.mzML\"))) \n",
    "                        \n",
    "feature_maps = []\n",
    "for file in feature_files:\n",
    "    fmap = FeatureMap()\n",
    "    FeatureXMLFile().load(file, fmap)\n",
    "    feature_maps.append(fmap)\n",
    "\n",
    "# collect SIRIUS CLI commands to run them in parallel\n",
    "sirius_commands = []\n",
    "for filename in input_mzml_files:\n",
    "    exp = MSExperiment()\n",
    "    MzMLFile().load(filename, exp)\n",
    "    exp.sortSpectra(True)\n",
    "    print(exp.getNrSpectra())\n",
    "    \n",
    "    for fmap in feature_maps:\n",
    "        if os.path.basename(fmap.getMetaValue(\"spectra_data\")[0].decode())[7:] == os.path.basename(filename)[11:]:\n",
    "            fm_no_sub = FeatureMap(fmap)\n",
    "            fm_no_sub.clear(False)\n",
    "            for f in fmap:\n",
    "                f.setConvexHulls([])\n",
    "                f.setSubordinates([])\n",
    "                fm_no_sub.push_back(f)\n",
    "            \n",
    "            featureinfo = os.path.join(path, 'MFD_ncv_' + os.path.basename(filename)[11:-5] + \".featureXML\")\n",
    "            FeatureXMLFile().store(featureinfo, fm_no_sub)\n",
    "\n",
    "            export = SiriusExportAlgorithm()\n",
    "            export_par = export.getDefaults()\n",
    "            export_par.setValue(\"filter_by_num_masstraces\", 2) #Number of mass traces each feature has to have to be included\n",
    "            export_par.setValue(\"feature_only\", \"true\") #Uses the feature information from in_fm_no_sub to reduce the search space to MS2\n",
    "            export.setParameters(export_par)\n",
    "                \n",
    "            fm_info = FeatureMapping_FeatureMappingInfo()\n",
    "            feature_mapping = FeatureMapping_FeatureToMs2Indices() \n",
    "            export.preprocessing(featureinfo,\n",
    "                                exp,\n",
    "                                fm_info,\n",
    "                                feature_mapping)\n",
    "\n",
    "            project_dir = os.path.join(path, os.path.basename(filename)[11:-5])\n",
    "\n",
    "            if os.path.exists(project_dir):\n",
    "                shutil.rmtree(project_dir)\n",
    "            os.mkdir(project_dir)\n",
    "\n",
    "            ms_file = os.path.join(project_dir, \"sirius.ms\")\n",
    "            export.run(mzML_files = [filename.encode()],\n",
    "                       featureXML_files = [featureinfo.encode()],\n",
    "                       out_ms = ms_file,\n",
    "                       out_compoundinfo = os.path.join(project_dir, \"compoundinfo.tsv\")\n",
    "            )\n",
    "\n",
    "            # Setup SIRIUS CLI command as list to call with Python subprocess, modify according to your data\n",
    "            command = [\n",
    "                    \"sirius\",\n",
    "                    \"--input\",\n",
    "                    ms_file,\n",
    "                    \"--project\",\n",
    "                    os.path.join(project_dir, \"sirius\"),\n",
    "                    \"--no-compression\",\n",
    "                    \"--maxmz\", \"300\",\n",
    "                    \"formula\", # FORMULA PREDICTION\n",
    "                    \"--profile\", \"default\",\n",
    "                    \"--database\", \"none\",\n",
    "                    \"--ions-considered\", \"[M+H]+,[M+K]+,[M+Na]+,[M+H-H2O]+,[M+H-H4O2]+,[M+NH4]+,[M-H]-,[M+Cl]-,[M-H2O-H]-,[M+Br]-\",\n",
    "                    \"--elements-considered\", \"SBrClBSe\",\n",
    "                    \"--elements-enforced\", \"CHNOP\",\n",
    "                    \"--ppm-max\", \"10.0\",\n",
    "                    \"--ppm-max-ms2\", \"10.0\",\n",
    "                    \"--candidates\", \"1\",\n",
    "                    \"fingerprint\", # STRUCTURE PREDICTION CSI:FingerId\n",
    "                    \"structure\",\n",
    "                    \"--database\", \"BIO\",\n",
    "                    \"canopus\",\n",
    "                    \"write-summaries\"\n",
    "                ]\n",
    "            sirius_commands.append(command)\n",
    "\n",
    "# Run all SIRIUS commans in parallel via threading\n",
    "def run_command(command):\n",
    "    print(f\"\\nExecuting command:\\n{' '.join(command)} \\n Please wait...\")\n",
    "    process = subprocess.Popen(command, stdout=subprocess.PIPE, stderr=subprocess.PIPE)\n",
    "    stdout, stderr = process.communicate()\n",
    "    # Write long SIRIUS log to file (in results/interim/SiriusCSI/FileName/log.log) instead of Jupyter notebook\n",
    "    with open(os.path.join(command[4], \"log.log\"), \"w\", encoding=\"utf-8\") as f:\n",
    "        f.write(stdout.decode())\n",
    "        f.write(stderr.decode())\n",
    "\n",
    "# Start a new thread for all commands\n",
    "threads = []\n",
    "for cmd in sirius_commands:\n",
    "    thread = threading.Thread(target=run_command, args=(cmd,))\n",
    "    thread.start()\n",
    "    threads.append(thread)\n",
    "# Wait for all threads to complete\n",
    "for thread in threads:\n",
    "    thread.join()\n",
    "print(\"\\nDONE\")\n",
    " "
   ]
  },
  {
   "cell_type": "markdown",
   "metadata": {},
   "source": [
    "# Annotation of FeatureMatrix with SIRIUS results"
   ]
  },
  {
   "cell_type": "code",
   "execution_count": null,
   "metadata": {},
   "outputs": [],
   "source": [
    "df = pd.read_csv(os.path.join(\"results\", \"features\", \"FeatureMatrix.tsv\"), sep=\"\\t\")\n",
    "\n",
    "sirius_projects_dirs = [Path(p, \"sirius\") for p in Path(path).iterdir() if p.is_dir()]\n",
    "\n",
    "for p in sirius_projects_dirs:\n",
    "    for tool, annotation_file, cols in zip(\n",
    "        [\"SIRIUS\", \"CSI:FingerID\", \"CANOPUS\"],\n",
    "        [\n",
    "            \"formula_identifications.tsv\", # for negative mode: \n",
    "            \"compound_identifications.tsv\",\n",
    "            \"canopus_compound_summary.tsv\",\n",
    "        ],\n",
    "        [\n",
    "            [\"molecularFormula\", \"explainedIntensity\"],\n",
    "            [\"molecularFormula\", \"name\", \"InChI\", \"smiles\"],\n",
    "            [\n",
    "                \"NPC#pathway\",\n",
    "                \"NPC#superclass\",\n",
    "                \"NPC#class\",\n",
    "                \"ClassyFire#most specific class\",\n",
    "            ],\n",
    "        ],\n",
    "    ):\n",
    "        file = Path(p, annotation_file)\n",
    "        if file.exists():\n",
    "            df_tmp = pd.read_csv(file, sep=\"\\t\")\n",
    "            df_tmp[\"id\"] = df_tmp[\"id\"].apply(\n",
    "                lambda x: x.split(\"_0_\")[1].split(\"-\")[0]\n",
    "            )\n",
    "            for col in cols:\n",
    "                df[\n",
    "                    f\"{p.parent.name}_{tool}_{col.replace('NPC#', '').replace('ClassyFire#', '')}\"\n",
    "                ] = df[f\"{p.parent.name}.mzML_IDs\"].astype(str).map(\n",
    "                    df_tmp.set_index(\"id\")[col].to_dict()\n",
    "                )\n",
    "\n",
    "df.to_csv(os.path.join(\"results\", \"features\", \"FeatureMatrix.tsv\"), sep=\"\\t\", index=False)"
   ]
  }
 ],
 "metadata": {
  "kernelspec": {
   "display_name": "Python 3 (ipykernel)",
   "language": "python",
   "name": "python3"
  },
  "language_info": {
   "codemirror_mode": {
    "name": "ipython",
    "version": 3
   },
   "file_extension": ".py",
   "mimetype": "text/x-python",
   "name": "python",
   "nbconvert_exporter": "python",
   "pygments_lexer": "ipython3",
   "version": "3.10.0"
  },
  "vscode": {
   "interpreter": {
    "hash": "edde62aa2661007f0756e9790e7a328c288a583bf6ce768a355147dac67c8db8"
   }
  }
 },
 "nbformat": 4,
 "nbformat_minor": 4
}
