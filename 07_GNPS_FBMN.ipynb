{
 "cells": [
  {
   "cell_type": "markdown",
   "metadata": {},
   "source": [
    "## `A Jupyter notebook for SIRIUS and FBMN integration.`\n",
    "\n",
    "#### `1) Load Feature matrix and annotate with scan numbers (will be used to match SIRIUS, Spectral Match and GNPS annotations\")`\n",
    "This notebook requires a .graphml file generated from FBMN. Once you run the job, using the GNPSexport files, save the graphml file under the directory results/GNPSexport and run the following cells to add information to the cytoscape file:"
   ]
  },
  {
   "cell_type": "code",
   "execution_count": null,
   "metadata": {},
   "outputs": [],
   "source": [
    "# Integrating into Graphml\n",
    "import requests\n",
    "import pandas as pd\n",
    "import networkx as nx\n",
    "import glob\n",
    "import os\n",
    "import sys\n",
    "from pyteomics import mgf, auxiliary\n",
    "from src.export_feature_matrix import export"
   ]
  },
  {
   "cell_type": "markdown",
   "metadata": {},
   "source": [
    "Load feature matrix."
   ]
  },
  {
   "cell_type": "code",
   "execution_count": null,
   "metadata": {},
   "outputs": [],
   "source": [
    "matrix= pd.read_csv(os.path.join(\"results\", \"interim\", \"FeatureMatrix.tsv\"), sep=\"\\t\")\n",
    "matrix[\"id\"]= matrix[\"id\"].astype(str)\n",
    "matrix"
   ]
  },
  {
   "cell_type": "markdown",
   "metadata": {},
   "source": [
    "Turn the mgf file to a dataframe to match the feature IDs with scan numbers and annotate feature matrix with scan numbers."
   ]
  },
  {
   "cell_type": "code",
   "execution_count": null,
   "metadata": {},
   "outputs": [],
   "source": [
    "path= os.path.join(\"results\", \"GNPSexport\", \"MSMS.mgf\")\n",
    "file= mgf.MGF(source=path, use_header=True, convert_arrays=2, read_charges=True, read_ions=False, dtype=None, encoding=None)\n",
    "parameters=[]\n",
    "for spectrum in file:\n",
    "    parameters.append(spectrum['params'])\n",
    "mgf_file= pd.DataFrame(parameters)\n",
    "mgf_file[\"feature_id\"]= mgf_file[\"feature_id\"].str.replace(r\"e_\", \"\")\n",
    "\n",
    "\n",
    "# display(mgf_file)\n",
    "\n",
    "matrix[\"SCANS\"] = \"\"\n",
    "for i, id in zip(matrix.index, matrix[\"id\"]):\n",
    "    hits = []\n",
    "    for scan, feature_id in zip(mgf_file[\"scans\"], mgf_file[\"feature_id\"]): \n",
    "        if feature_id==id:\n",
    "            hit = f\"{scan}\"\n",
    "            if hit not in hits:\n",
    "                hits.append(hit)\n",
    "    matrix.loc[i, \"SCANS\"] = \" ## \".join(hits)\n",
    "\n",
    "# display(matrix)"
   ]
  },
  {
   "cell_type": "markdown",
   "metadata": {},
   "source": [
    "#### `2) SIRIUS, CSI:FingerID, CANOPUS and in-house Spectral Matching integration to GraphML file`\n",
    "This notebook requires a .graphml file generated from FBMN. Once you run the job, using the GNPSexport files, save the graphml file under the directory results/GNPSexport and run the following cells to add information to the cytoscape file:\n",
    "\n",
    "Add the SIRIUS, CSI:FingerID, CANOPUS and in-house spectral matching information at the graphml file from FBMN:"
   ]
  },
  {
   "cell_type": "code",
   "execution_count": null,
   "metadata": {},
   "outputs": [],
   "source": [
    "file_list= glob.glob(os.path.join(\"resources\", \"*.graphml\"))\n",
    "\n",
    "for file in file_list:\n",
    "    G = nx.read_graphml(file)\n",
    "    for i, row in matrix.iterrows():\n",
    "        scans = [s for s in row[\"SCANS\"].split(\"#\") if s]\n",
    "        if scans:\n",
    "            for term in [\"SIRIUS_molecularFormula\",\n",
    "                         \"SIRIUS_explainedIntensity\",\n",
    "                         \"CSI:FingerID_molecularFormula\",\n",
    "                         \"CSI:FingerID_name\",\n",
    "                         \"CSI:FingerID_InChI\",\n",
    "                         \"CSI:FingerID_smiles\",\n",
    "                         \"CANOPUS_pathway\",\n",
    "                         \"CANOPUS_superclass\",\n",
    "                         \"CANOPUS_class\",\n",
    "                         \"CANOPUS_most specific class\",\n",
    "                         \"SpectralMatch\",\n",
    "                         \"SpectralMatch_smiles\"]:\n",
    "                for col in [col for col in matrix.columns if col.endswith(term)]:\n",
    "                    if not pd.isna(row[col]):\n",
    "                        for scan in scans:\n",
    "                            if scan in G.nodes:\n",
    "                                G.nodes[scan][col] = str(row[col])\n",
    "\n",
    "    nx.write_graphml(G, os.path.join(\"results\", \"FBMN_SIRIUS-CSI-CANOPUS_SpectralMatches.graphml\"))"
   ]
  },
  {
   "cell_type": "markdown",
   "metadata": {},
   "source": [
    "#### `2) Add GNPS library hits to Feature matrix`\n",
    "\n",
    "This step is optional in case the user does not have an MGF file downloaded (or if they want to add complementary MSMS library matches) requires the library results `.tsv` file (downloadable in GNPS result dashboard). Move the `.tsv` table into the resources directory."
   ]
  },
  {
   "cell_type": "code",
   "execution_count": null,
   "metadata": {},
   "outputs": [],
   "source": [
    "file_list = glob.glob(os.path.join(\"resources\", \"*.tsv\"))\n",
    "\n",
    "for file in file_list:\n",
    "    df= pd.read_csv(file, sep=\"\\t\")\n",
    "    df.drop(df.index[df['IonMode'] == \"negative\"], inplace=True)\n",
    "    # df.drop(df.index[df['MZErrorPPM'] > 10.0], inplace=True)\n",
    "    GNPS = df.drop_duplicates(subset=\"Compound_Name\", keep='first')\n",
    "GNPS.head()"
   ]
  },
  {
   "cell_type": "markdown",
   "metadata": {},
   "source": [
    "Add the GNPS matches to the matrix:"
   ]
  },
  {
   "cell_type": "code",
   "execution_count": null,
   "metadata": {},
   "outputs": [],
   "source": [
    "gnps = []\n",
    "for i, row in matrix.iterrows():\n",
    "        scans = [s for s in row[\"SCANS\"].split(\"#\") if s]\n",
    "        hits = []\n",
    "        if scans:\n",
    "            for scan in scans:\n",
    "                hits.append(\"##\".join(GNPS[GNPS[\"#Scan#\"] == int(scan)][\"Compound_Name\"].tolist()))\n",
    "        gnps.append(\"##\".join(hits))\n",
    "matrix[\"GNPS\"] = gnps\n",
    "\n",
    "export(matrix)\n",
    "\n",
    "matrix"
   ]
  }
 ],
 "metadata": {
  "kernelspec": {
   "display_name": "Python 3 (ipykernel)",
   "language": "python",
   "name": "python3"
  },
  "language_info": {
   "codemirror_mode": {
    "name": "ipython",
    "version": 3
   },
   "file_extension": ".py",
   "mimetype": "text/x-python",
   "name": "python",
   "nbconvert_exporter": "python",
   "pygments_lexer": "ipython3",
   "version": "3.12.0"
  },
  "vscode": {
   "interpreter": {
    "hash": "edde62aa2661007f0756e9790e7a328c288a583bf6ce768a355147dac67c8db8"
   }
  }
 },
 "nbformat": 4,
 "nbformat_minor": 4
}
